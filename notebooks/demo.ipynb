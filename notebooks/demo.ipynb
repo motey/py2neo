{
 "cells": [
  {
   "cell_type": "code",
   "execution_count": 1,
   "metadata": {},
   "outputs": [
    {
     "data": {
      "text/plain": [
       "Server: bolt://localhost:7687\n",
       "Kernel: neo4j-kernel, version: 3.4.0,efaa8492f0a3439d20461055219c070d83f001f3"
      ]
     },
     "metadata": {},
     "output_type": "display_data"
    }
   ],
   "source": [
    "!server"
   ]
  },
  {
   "cell_type": "code",
   "execution_count": 2,
   "metadata": {},
   "outputs": [
    {
     "data": {
      "text/html": [
       "<table><tr><th>a.name</th><th>a.born</th></tr><tr><td style=\"text-align:left\">Demi Moore</td><td style=\"text-align:right\">1962</td></tr><tr><td style=\"text-align:left\">Kevin Bacon</td><td style=\"text-align:right\">1958</td></tr><tr><td style=\"text-align:left\">Keanu Reeves</td><td style=\"text-align:right\">1964</td></tr><tr><td style=\"text-align:left\">Carrie-Anne Moss</td><td style=\"text-align:right\">1967</td></tr><tr><td style=\"text-align:left\">Laurence Fishburne</td><td style=\"text-align:right\">1961</td></tr><tr><td style=\"text-align:left\">Hugo Weaving</td><td style=\"text-align:right\">1960</td></tr><tr><td style=\"text-align:left\">Lilly Wachowski</td><td style=\"text-align:right\">1967</td></tr><tr><td style=\"text-align:left\">Lana Wachowski</td><td style=\"text-align:right\">1965</td></tr><tr><td style=\"text-align:left\">Joel Silver</td><td style=\"text-align:right\">1952</td></tr><tr><td style=\"text-align:left\">Emil Eifrem</td><td style=\"text-align:right\">1978</td></tr></table>"
      ],
      "text/plain": [
       " a.name             | a.born \r\n",
       "--------------------|--------\r\n",
       " Demi Moore         |   1962 \r\n",
       " Kevin Bacon        |   1958 \r\n",
       " Keanu Reeves       |   1964 \r\n",
       " Carrie-Anne Moss   |   1967 \r\n",
       " Laurence Fishburne |   1961 \r\n",
       " Hugo Weaving       |   1960 \r\n",
       " Lilly Wachowski    |   1967 \r\n",
       " Lana Wachowski     |   1965 \r\n",
       " Joel Silver        |   1952 \r\n",
       " Emil Eifrem        |   1978 \r\n"
      ]
     },
     "execution_count": 2,
     "metadata": {},
     "output_type": "execute_result"
    }
   ],
   "source": [
    "match (a:Person) return a.name, a.born limit 10"
   ]
  },
  {
   "cell_type": "code",
   "execution_count": null,
   "metadata": {},
   "outputs": [],
   "source": []
  }
 ],
 "metadata": {
  "kernelspec": {
   "display_name": "Cypher",
   "language": "cypher",
   "name": "cypher"
  },
  "language_info": {
   "file_extension": ".cypher",
   "name": "cypher",
   "pygments_lexer": "py2neo.cypher",
   "version": "Neo4j/3.4"
  }
 },
 "nbformat": 4,
 "nbformat_minor": 2
}
